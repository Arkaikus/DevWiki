{
 "cells": [
  {
   "cell_type": "markdown",
   "metadata": {},
   "source": [
    "## Machine Learning\n",
    "\n",
    "Tiene el objetivo de diseñar, entender y aplicar algoritmos que aprenden de la experiencia\n",
    "\n",
    "- Modelar como funcionan las cosas\n",
    "- Predecir resultados\n",
    "\n",
    "Predecir puede venir en terminos de eventos que pueden ocurrir o propiedades que aun se desconocen\n",
    "Por ejemplo: el valor de un inventario en el mercado, recomendaciones de peliculas, que hay en una imagen, traducir lenguajes\n",
    "\n",
    "### Aprendizaje Supervisado\n",
    "\n",
    "Mapear ejemplos a categorias de acuerdo a parametros y escoger cuales se ajustan más\n",
    "\n",
    "Ejemplo: Recomendar peliculas\n",
    "- Tengo un conjunto de peliculas que ya he visto y puedo usar la experiencia para saber si me gustaría ver otras peliculas\n",
    "- Cada pelicula que he visto puedo darle un valor que indica qué tanto me gustó\n",
    "- Aunque un algoritmo puede entender los valores, no entiende nada sobre peliculas\n",
    "- Pero esto se puede hacer construyendo un vector de caracteristicas para cada pelicula\n",
    "- Puedo indicar con 0 o 1 si esa pelicula es de un genero o no (ej: ciencia ficcion? 0:1 etc) asi podemos generar un vector binario asosiado a cada pelicula\n",
    "- Dado que el computador ya puede entender los datos, los datos que ya he calificado sirven como un conjunto de entrenamiento para recomendar otras peliculas\n",
    "- La tarea del algoritmo de aprendizaje ahora es mapear esos vectores a esas calificaciones (clasificador)\n",
    "- Las peliculas que no he calificado se vuelven en el conjunto de prueba\n",
    "- Nos interesa generalizar el mapeo generado, a las peliculas que aun no hemos visto y esperamos que eso funcione\n",
    "\n",
    "El clasificador más simple es conocido como un clasificador lineal, sin embargo este puede clasificar elementos que no necesariamente tengan el puntaje esperado, por lo tanto necesitamos de alguna forma evaluar que tan bueno es el clasificador en relación al entrenamiento\n",
    "\n",
    "El error de entrenamiento puede conseguirse sumando el total de errores de clasificación sobre el total de elementos del conjunto de entrenamiento+ el conjunto de prueba\n",
    "\n",
    "### Referencias\n",
    "- [Machine Learning with Python-From Linear Models to Deep Learning](https://courses.edx.org/courses/course-v1:MITx+6.86x+1T2019/)\n",
    "- [Linear Regression](https://github.com/aymericdamien/TensorFlow-Examples/blob/master/tensorflow_v2/notebooks/2_BasicModels/linear_regression.ipynb)\n",
    "- [Random Forest](https://github.com/aymericdamien/TensorFlow-Examples/blob/master/notebooks/2_BasicModels/random_forest.ipynb)(TensorFlow v1)\n",
    "- [Neural Networks](https://colab.research.google.com/drive/1B1ZFXIPgDjKg7TQHhd7Nlmi5oz-N3CNo)\n",
    "- [Convolutional Neural Network](https://www.tensorflow.org/tutorials/images/cnn)\n",
    "- [Other Neural Networks Examples](https://github.com/aymericdamien/TensorFlow-Examples/tree/master/tensorflow_v2/notebooks/3_NeuralNetworks)"
   ]
  }
 ],
 "metadata": {
  "kernelspec": {
   "display_name": "Python 3",
   "language": "python",
   "name": "python3"
  },
  "language_info": {
   "codemirror_mode": {
    "name": "ipython",
    "version": 3
   },
   "file_extension": ".py",
   "mimetype": "text/x-python",
   "name": "python",
   "nbconvert_exporter": "python",
   "pygments_lexer": "ipython3",
   "version": "3.7.3"
  }
 },
 "nbformat": 4,
 "nbformat_minor": 4
}
