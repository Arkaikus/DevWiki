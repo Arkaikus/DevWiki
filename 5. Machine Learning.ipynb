{
 "cells": [
  {
   "cell_type": "markdown",
   "metadata": {},
   "source": [
    "## Machine Learning\n",
    "\n",
    "Tiene el objetivo de diseñar, entender y aplicar algoritmos que aprenden de la experiencia\n",
    "\n",
    "- Modelar como funcionan las cosas\n",
    "- Predecir resultados\n",
    "\n",
    "Predecir puede venir en terminos de eventos que pueden ocurrir o propiedades que aun se desconocen\n",
    "Por ejemplo: el valor de un inventario en el mercado, recomendaciones de peliculas, que hay en una imagen, traducir lenguajes.\n",
    "\n",
    "Problemas que tiendan a incluir un valor a futuro basados en valores preexistentes se considera un problema de regresión.\n",
    "\n",
    "Problemas que busquen categorizar, asociar una entrada con una salida, son problemas de clasificación.\n",
    "\n",
    "### Aprendizaje Supervisado\n",
    "\n",
    "Es donde uno establece el comportamiento indicado dando ejemplos con sus respectiva clasificación y los cuales sirven de base para entrenar un algoritmo y esperar que este haga bien su trabajo\n",
    "\n",
    "Ejemplo: Recomendar peliculas\n",
    "- Tengo un conjunto de peliculas que ya he visto y puedo usar la experiencia para saber si me gustaría ver otras peliculas\n",
    "- Cada pelicula que he visto puedo darle un valor que indica qué tanto me gustó\n",
    "- Aunque un algoritmo puede entender los valores, no entiende nada sobre peliculas\n",
    "- Pero esto se puede hacer construyendo un vector de caracteristicas para cada pelicula\n",
    "- Puedo indicar con 0 o 1 si esa pelicula es de un genero o no (ej: ciencia ficcion? 0:1 etc) asi podemos generar un vector binario asosiado a cada pelicula\n",
    "- Dado que el computador ya puede entender los datos, los datos que ya he calificado sirven como un conjunto de entrenamiento para recomendar otras peliculas\n",
    "- La tarea del algoritmo de aprendizaje ahora es mapear esos vectores a esas calificaciones (clasificador)\n",
    "- Las peliculas que no he calificado se vuelven en el conjunto de prueba\n",
    "- Nos interesa generalizar el mapeo generado, a las peliculas que aun no hemos visto y esperamos que eso funcione\n",
    "\n",
    "#### Clasificadores lineales\n",
    "\n",
    "El clasificador más simple es conocido como un clasificador lineal, sin embargo este puede clasificar elementos que no necesariamente tengan la calificación esperada, por lo tanto necesitamos de alguna forma evaluar que tan bueno es el clasificador en relación al entrenamiento\n",
    "\n",
    "En general un clasificador es una función que actua sobre un vector de caracteristicas X y da como resultado un valor/etiqueta\n",
    "\n",
    "$\n",
    "h(x^{(i)}) = y^{(i)}\n",
    "$ donde i se mueve entre 0 y n\n",
    "\n",
    "Si representamos los datos ubicados en un plano 2D, un clasificador lineal se encargaria de trazar una linea dividiento los datos en dos grupos, Ej: si queremos clasificar datos en dos etiquetas entonces un grupo encima de la linea seria clasificado como una etiqueta A y el otro como una etiqueta B y la linea que los divide se llamaria frontera de decisión\n",
    "\n",
    "Debido a que el vector de caracteristicas puede ser de tamaño n obtenemos que para n=3 la frontera de decisión es un plano y para n>3 es un hiperplano, estas fronteras dividen el espacio en 2 mitades\n",
    "\n",
    "#### Separación Lineal\n",
    "\n",
    "Para proceder con los clasificadores lineales es necesario conocer la matemática que nos permita hacer lo descrito y para esto necesitamos saber ecuaciones lineales y algebra lineal\n",
    "\n",
    "Una ecuacion lineal sencilla se puede parametrizar de la siguiente forma:\n",
    "\n",
    "$y = \\theta_0 x + \\hat\\theta$\n",
    "\n",
    "$\\theta_0 x + \\theta_1 y + \\hat\\theta = 0$\n",
    "\n",
    "puede verse como:\n",
    "\n",
    "$\\Theta \\cdot X + \\hat\\theta= 0$  \n",
    "\n",
    "donde\n",
    "\n",
    "$\\Theta = \\begin{bmatrix} \\theta_0 \\\\  \\theta_1 \\end{bmatrix} $\n",
    "\n",
    "$X = \\begin{bmatrix} X_0 \\\\  X_1 \\end{bmatrix} $\n",
    "\n",
    "Esta parametrización se cumple para n-dimensiones, donde $\\Theta_n = (\\theta_0, \\theta_1, ..., \\theta_{n-1})^T$ y $X_n = (X_0, X_1, ..., X_{n-1})^T$\n",
    "\n",
    "Cuando tenemos un conjunto de puntos arbitrarios podemos saber alguno de estos se encuentra a un lado u otro de la frontera de decisión representada por la recta $\\Theta \\cdot X + \\hat\\theta= 0$ aplicando el producto punto con el vector normal $\\Theta$\n",
    "\n",
    "Supongamos que tenemos la siguiente recta y los siguientes puntos:"
   ]
  },
  {
   "cell_type": "code",
   "execution_count": null,
   "metadata": {},
   "outputs": [],
   "source": [
    "!pip install matplotlib"
   ]
  },
  {
   "cell_type": "code",
   "execution_count": null,
   "metadata": {},
   "outputs": [],
   "source": [
    "!pip install numpy"
   ]
  },
  {
   "cell_type": "code",
   "execution_count": 1,
   "metadata": {},
   "outputs": [
    {
     "data": {
      "image/png": "[encoded data removed]",
      "text/plain": [
       "<Figure size 432x288 with 1 Axes>"
      ]
     },
     "metadata": {
      "needs_background": "light"
     },
     "output_type": "display_data"
    }
   ],
   "source": [
    "import matplotlib.pyplot as plt\n",
    "import numpy as np\n",
    "\n",
    "fd = list(range(6))\n",
    "x = [1,2,3,4]\n",
    "y = [2,3,1,2]\n",
    "plt.axis([0, 5, 0, 5])\n",
    "plt.plot(x[:2],y[:2], 'bo')\n",
    "plt.plot(x[2:],y[2:], 'ro')\n",
    "plt.plot(fd, np.poly1d([1,0])(fd))\n",
    "plt.show()"
   ]
  },
  {
   "cell_type": "markdown",
   "metadata": {},
   "source": [
    "$\n",
    "X_1 = (1,2) \\\\\n",
    "X_2 = (2,3) \\\\\n",
    "X_3 = (3,1) \\\\\n",
    "X_4 = (4,2) \\\\\n",
    "$\n",
    "\n",
    "El vector normal de la recta azul es:\n",
    "\n",
    "$\n",
    "\\Theta = \\begin{bmatrix} 1 \\\\ -1 \\end{bmatrix}\n",
    "$\n",
    "\n",
    "Si aplicamos el producto punto podemos observar que si el resultado es negativo entonces el punto X se encuentra a la izquierda de la recta, y si el resultado es positivo entones está a la derecha de la recta. Si el producto punto diera 0 implicaría que el punto se encuentra sobre la recta."
   ]
  },
  {
   "cell_type": "code",
   "execution_count": 2,
   "metadata": {},
   "outputs": [
    {
     "name": "stdout",
     "output_type": "stream",
     "text": [
      "(1, 2) Está a la izquierda (-)\n",
      "(2, 3) Está a la izquierda (-)\n",
      "(3, 1) Está a la derecha (+)\n",
      "(4, 2) Está a la derecha (+)\n"
     ]
    }
   ],
   "source": [
    "Xs = list(zip(x,y))\n",
    "\n",
    "def Separate(Xs, NormalVector):\n",
    "    for x in Xs:\n",
    "        cdot = np.dot(np.array(x),np.array(NormalVector))\n",
    "        if cdot < 0:\n",
    "            print(x, \"Está a la izquierda (-)\")\n",
    "        else:\n",
    "            print(x, \"Está a la derecha (+)\")\n",
    "            \n",
    "Separate(Xs, [1,-1])"
   ]
  },
  {
   "cell_type": "markdown",
   "metadata": {},
   "source": [
    "Notese que estamos tomando en cuenta una recta que pasa necesariamente por el origen o cordenadas (0,0), sin embargo esto no siempre nos va a permitir separar linealmente dos grupos de datos, además existen conjuntos de datos que no son linealmente separables en 2 dimensiones, Ejemplo: No es posible trazar una linea que separe los siguientes puntos en dos grupos del mismo color"
   ]
  },
  {
   "cell_type": "code",
   "execution_count": 3,
   "metadata": {},
   "outputs": [
    {
     "data": {
      "image/png": "[encoded data removed]",
      "text/plain": [
       "<Figure size 432x288 with 1 Axes>"
      ]
     },
     "metadata": {
      "needs_background": "light"
     },
     "output_type": "display_data"
    }
   ],
   "source": [
    "plt.axis([0, 3, 0, 3])\n",
    "plt.plot(1,2, 'bo')\n",
    "plt.plot(1,1, 'ro')\n",
    "plt.plot(2,1, 'bo')\n",
    "plt.plot(2,2, 'ro')\n",
    "plt.show()"
   ]
  },
  {
   "cell_type": "markdown",
   "metadata": {},
   "source": [
    "#### Entrenamiento y Clasificación: Perceptrón\n",
    "\n",
    "De acuerdo a los ejemplos anteriores podemos decir que el resultado de la clasificación es (-) o (+) de acuerdo a si los puntos están en un lado u otro de la recta que los separa, por lo tanto\n",
    "\n",
    "$\n",
    "h(x^{(i)}) = y^{(i)} \\\\\n",
    "h((1,2)) = (-) \\\\\n",
    "h((3,1)) = (+) \\\\\n",
    "$  \n",
    "que se puede ver como  \n",
    "$\n",
    "h((1,2)) = -1 \\\\\n",
    "h((3,1)) = +1 \\\\\n",
    "$\n",
    "\n",
    "Se puede decir entonces que el objetivo de un clasificador lineal es encontrar el vector normal $\\Theta$ tal que permita separar los datos en las etiquetas -1 y +1\n",
    "\n",
    "El algoritmo perceptrón es un algoritmo el cual nos permite realizar el entrenamiento y encontrar ese vector que nos permitirá hacer la separación, su pseudocódigo es el siguiente\n",
    "&nbsp;\n",
    "\n",
    "$PERCEPTRON1(\\{(x^{(i)}, y^{(i)}), i=1,...,n\\},T)$  \n",
    "$\\Theta = 0, \\hat\\theta = 0$  \n",
    "$for$ $ t = 1,...,T $ $do$  \n",
    "> $for$ $ i = 1,...,n $ $do$  \n",
    "> > $if$ $ y^{(i)}(\\Theta \\cdot x^{(i)}) \\leq 0 $ $then$  \n",
    "> > > $\\Theta = \\Theta + y^{(i)}x^{(i)}$  \n",
    "> > > $\\hat\\theta = \\hat\\theta + y^{(i)}$\n",
    "\n",
    "$return$ $\\Theta, \\hat\\theta$\n",
    "\n",
    "donde T es el numero de iteraciones que corre el algoritmo\n",
    "\n",
    "$ y^{(i)}(\\Theta \\cdot x^{(i)}) \\leq 0 $ es el error que representa si un punto X no es clasificado correctamente, es decir:\n",
    "\n",
    "Si $ \\Theta \\cdot x^{(i)} $ da como resultado $1$ y el valor $ y^{(i)} $ esperado era $-1$ entonces es un error; lo mismo si el resultado del producto punto es $-1$ y se esperaba $1$, si el resultado es 0 también se toma como error; entonces se opera $\\Theta = \\Theta + y^{(i)}x^{(i)}$ para corregir ese error\n",
    "\n",
    "#### Código Perceptron"
   ]
  },
  {
   "cell_type": "code",
   "execution_count": 4,
   "metadata": {},
   "outputs": [],
   "source": [
    "# X: Datos de entrenamiento\n",
    "# Y: clasificación x[i]\n",
    "# n: numero de elementos del set de prueba\n",
    "def Perceptron(X,Y,n, T):\n",
    "    Theta,theta = np.array([0,0]), 0\n",
    "    for _ in range(T):\n",
    "        for i in range(n):\n",
    "            x = X[i]\n",
    "            y = Y[i]\n",
    "            TdotX = np.dot(Theta,x)\n",
    "            yx    = np.inner(y,x)\n",
    "            if y*TdotX <= 0:\n",
    "                Theta += yx\n",
    "                theta += y\n",
    "    return Theta,theta"
   ]
  },
  {
   "cell_type": "markdown",
   "metadata": {},
   "source": [
    "Si probamos el primer ejemplo que presentamos al inicio obtenemos lo siguiente:"
   ]
  },
  {
   "cell_type": "code",
   "execution_count": 5,
   "metadata": {},
   "outputs": [
    {
     "name": "stdout",
     "output_type": "stream",
     "text": [
      "(1, 2) Está a la izquierda (-)\n",
      "(2, 3) Está a la izquierda (-)\n",
      "(3, 1) Está a la derecha (+)\n",
      "(4, 2) Está a la derecha (+)\n"
     ]
    },
    {
     "data": {
      "image/png": "[encoded data removed]",
      "text/plain": [
       "<Figure size 432x288 with 1 Axes>"
      ]
     },
     "metadata": {
      "needs_background": "light"
     },
     "output_type": "display_data"
    }
   ],
   "source": [
    "fd = list(range(6))\n",
    "x = [1,2,3,4]\n",
    "y = [2,3,1,2]\n",
    "X = list(zip(x,y)) # Genera una lista de puntos [x,y]\n",
    "Y = [-1,-1,1,1]    # Clasificación de los putos\n",
    "n = 4              # Numero de puntos\n",
    "Theta,theta = Perceptron(X,Y,n, 10)  # Se entrena el modelo\n",
    "\n",
    "Separate(Xs, Theta)\n",
    "\n",
    "plt.axis([0, 5, 0, 5])\n",
    "plt.plot(x,y, 'bo')\n",
    "\n",
    "poly = np.poly1d([(Theta[0])/(-Theta[1]),theta/(-Theta[1])])\n",
    "plt.plot(fd, poly(fd))\n",
    "plt.show()"
   ]
  },
  {
   "cell_type": "markdown",
   "metadata": {},
   "source": [
    "#### Ejemplo de juguete usando SciKit-Learn"
   ]
  },
  {
   "cell_type": "code",
   "execution_count": null,
   "metadata": {},
   "outputs": [],
   "source": [
    "!pip install scikit-learn"
   ]
  },
  {
   "cell_type": "code",
   "execution_count": null,
   "metadata": {},
   "outputs": [],
   "source": [
    "from sklearn.datasets import make_blobs\n",
    "X, y = make_blobs(n_samples=1000, centers=2, random_state=0)\n",
    "X[:5], y[:5]"
   ]
  },
  {
   "cell_type": "code",
   "execution_count": null,
   "metadata": {},
   "outputs": [],
   "source": [
    "fig, ax = plt.subplots()\n",
    "for label in [0, 1]:\n",
    "    mask = (y == label)\n",
    "    ax.scatter(X[mask, 0], X[mask, 1])"
   ]
  },
  {
   "cell_type": "code",
   "execution_count": null,
   "metadata": {},
   "outputs": [],
   "source": [
    "from sklearn.model_selection import train_test_split"
   ]
  },
  {
   "cell_type": "code",
   "execution_count": null,
   "metadata": {},
   "outputs": [],
   "source": [
    "X_train, X_test, y_train, y_test = train_test_split(X, y, test_size=0.2)"
   ]
  },
  {
   "cell_type": "code",
   "execution_count": null,
   "metadata": {},
   "outputs": [],
   "source": [
    "fig, ax = plt.subplots()\n",
    "for label in [0, 1]:\n",
    "    mask = (y_train == label)\n",
    "    ax.scatter(X_train[mask, 0], X_train[mask, 1])\n",
    "for label in [0, 1]:\n",
    "    mask = (y_test == label)\n",
    "    ax.scatter(X_test[mask, 0], X_test[mask, 1])"
   ]
  },
  {
   "cell_type": "code",
   "execution_count": null,
   "metadata": {},
   "outputs": [],
   "source": [
    "from sklearn.linear_model import Perceptron\n",
    "from sklearn.metrics import accuracy_score"
   ]
  },
  {
   "cell_type": "code",
   "execution_count": null,
   "metadata": {},
   "outputs": [],
   "source": [
    "clf = Perceptron(max_iter=40, random_state=0)"
   ]
  },
  {
   "cell_type": "code",
   "execution_count": null,
   "metadata": {},
   "outputs": [],
   "source": [
    "clf.fit(X_train, y_train)\n",
    "y_pred = clf.predict(X_test)\n",
    "\n",
    "print('Test accuracy: %.4f' % accuracy_score(y_test, y_pred))"
   ]
  },
  {
   "cell_type": "code",
   "execution_count": null,
   "metadata": {},
   "outputs": [],
   "source": [
    "theta = clf.coef_[0]\n",
    "theta_0 = clf.intercept_"
   ]
  },
  {
   "cell_type": "code",
   "execution_count": null,
   "metadata": {},
   "outputs": [],
   "source": [
    "fig, ax = plt.subplots()\n",
    "for label in [0, 1]:\n",
    "    mask = (y_train == label)\n",
    "    ax.scatter(X_train[mask, 0], X_train[mask, 1])\n",
    "for label in [0, 1]:\n",
    "    mask = (y_test == label)\n",
    "    ax.scatter(X_test[mask, 0], X_test[mask, 1])\n",
    "x_bnd = np.linspace(X[:, 0].min() - 1, X[:, 0].max() + 1,  400)\n",
    "y_bnd = - x_bnd * (theta[0] /theta[1]) - (theta_0 / theta[1])\n",
    "ax.plot(x_bnd, y_bnd)"
   ]
  },
  {
   "cell_type": "markdown",
   "metadata": {},
   "source": [
    "### Aprendizaje No Supervisado\n",
    "\n",
    "### Aprendizaje Semi-Supervisado\n",
    "\n",
    "### Aprendizaje Activo\n",
    "\n",
    "### Transferencia de Aprendizaje\n",
    "\n",
    "### Aprendizaje Reforzado\n",
    "\n",
    "### Referencias\n",
    "- [Machine Learning with Python-From Linear Models to Deep Learning](https://courses.edx.org/courses/course-v1:MITx+6.86x+1T2019/)\n",
    "- [Linear Regression](https://github.com/aymericdamien/TensorFlow-Examples/blob/master/tensorflow_v2/notebooks/2_BasicModels/linear_regression.ipynb)\n",
    "- [Random Forest](https://github.com/aymericdamien/TensorFlow-Examples/blob/master/notebooks/2_BasicModels/random_forest.ipynb)(TensorFlow v1)\n",
    "- [Neural Networks](https://colab.research.google.com/drive/1B1ZFXIPgDjKg7TQHhd7Nlmi5oz-N3CNo)\n",
    "- [Convolutional Neural Network](https://www.tensorflow.org/tutorials/images/cnn)\n",
    "- [Other Neural Networks Examples](https://github.com/aymericdamien/TensorFlow-Examples/tree/master/tensorflow_v2/notebooks/3_NeuralNetworks)"
   ]
  }
 ],
 "metadata": {
  "kernelspec": {
   "display_name": "Python 3",
   "language": "python",
   "name": "python3"
  },
  "language_info": {
   "codemirror_mode": {
    "name": "ipython",
    "version": 3
   },
   "file_extension": ".py",
   "mimetype": "text/x-python",
   "name": "python",
   "nbconvert_exporter": "python",
   "pygments_lexer": "ipython3",
   "version": "3.8.2"
  }
 },
 "nbformat": 4,
 "nbformat_minor": 4
}
