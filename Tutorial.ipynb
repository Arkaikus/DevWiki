{
 "cells": [
  {
   "cell_type": "markdown",
   "metadata": {},
   "source": [
    "## Desarrollo del Tutorial"
   ]
  },
  {
   "cell_type": "markdown",
   "metadata": {},
   "source": [
    "### Introducción"
   ]
  },
  {
   "cell_type": "code",
   "execution_count": 1,
   "metadata": {},
   "outputs": [],
   "source": [
    "#Importar la libreria\n",
    "import tensorflow as tf"
   ]
  },
  {
   "cell_type": "markdown",
   "metadata": {},
   "source": [
    "### Operaciones Básicas"
   ]
  },
  {
   "cell_type": "code",
   "execution_count": 2,
   "metadata": {},
   "outputs": [
    {
     "name": "stdout",
     "output_type": "stream",
     "text": [
      "Suma de 2 tensores 1-dimensionales\n",
      "a: [2.5 2. ]\n",
      "b: [3. 6.]\n",
      "a+b: [5.5 8. ]\n",
      "Variables:\n",
      "x:  0.0\n",
      "x:  3.0\n"
     ]
    }
   ],
   "source": [
    "#Suma de 2 tensores 1-dimensionales\n",
    "print('Suma de 2 tensores 1-dimensionales')\n",
    "a = tf.constant([2.5, 2],dtype=tf.float32)\n",
    "b = tf.constant([3, 6], dtype=tf.float32)\n",
    "total = tf.add(a, b)\n",
    "\n",
    "print(\"a:\", a.numpy())\n",
    "print(\"b:\", b.numpy())\n",
    "print(\"a+b:\", total.numpy())\n",
    "\n",
    "#Variables\n",
    "print('Variables:')\n",
    "x = tf.Variable(0, dtype=tf.float32)\n",
    "print(\"x: \",x.numpy())\n",
    "x.assign(3)\n",
    "print(\"x: \",x.numpy())"
   ]
  },
  {
   "cell_type": "markdown",
   "metadata": {},
   "source": [
    "### Resolviendo Ecuaciones Lineales"
   ]
  },
  {
   "cell_type": "code",
   "execution_count": 7,
   "metadata": {},
   "outputs": [
    {
     "name": "stdout",
     "output_type": "stream",
     "text": [
      "[[-1.]\n",
      " [ 2.]]\n"
     ]
    }
   ],
   "source": [
    "#AX = B\n",
    "\n",
    "#Ecuaciones\n",
    "\n",
    "# -1*x_1 + 3*x_2 = 7\n",
    "# 3*x_1 + 2*x_2 = 1\n",
    "\n",
    "A = tf.constant([\n",
    "    [-1, 3],\n",
    "    [3, 2]\n",
    "], dtype=tf.float32)\n",
    "\n",
    "B = tf.constant([\n",
    "    [7], [1]\n",
    "], dtype=tf.float32)\n",
    "\n",
    "#x = tf.matmul(tf.linalg.inv(A),B)\n",
    "result = tf.linalg.solve(\n",
    "    A, B, adjoint=False, name=None\n",
    ")\n",
    "\n",
    "print(result.numpy())"
   ]
  },
  {
   "cell_type": "code",
   "execution_count": null,
   "metadata": {},
   "outputs": [],
   "source": []
  }
 ],
 "metadata": {
  "kernelspec": {
   "display_name": "Python 3",
   "language": "python",
   "name": "python3"
  },
  "language_info": {
   "codemirror_mode": {
    "name": "ipython",
    "version": 3
   },
   "file_extension": ".py",
   "mimetype": "text/x-python",
   "name": "python",
   "nbconvert_exporter": "python",
   "pygments_lexer": "ipython3",
   "version": "3.7.3"
  }
 },
 "nbformat": 4,
 "nbformat_minor": 4
}
